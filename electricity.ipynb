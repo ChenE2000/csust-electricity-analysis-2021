{
 "cells": [
  {
   "cell_type": "markdown",
   "metadata": {},
   "source": [
    "# 长沙理工大学2021学年第一学期电费数据分析"
   ]
  },
  {
   "cell_type": "markdown",
   "metadata": {},
   "source": [
    "介绍：项目数据源为校一卡通开放接口，由爬虫每日爬取后存放到数据库，起始时间（2021年9月20日）\n",
    "在收集了约一个季度的电费信息后,可以对全校的整体或是单栋寝室楼或者单个寝室的用电情况进行分析,发现用电的时间规律或是气温规律.\n",
    "\n",
    "如果您对数据分析感兴趣,或是希望获取数据集自行分析,欢迎联系本文作者:chenyi\n",
    "\n",
    "email:396909028@qq.com"
   ]
  },
  {
   "cell_type": "markdown",
   "metadata": {},
   "source": [
    "### 1.环境准备"
   ]
  },
  {
   "cell_type": "code",
   "execution_count": 1,
   "metadata": {},
   "outputs": [],
   "source": [
    "import pandas as pd\n",
    "from sqlalchemy import create_engine\n",
    "from JDBCconnect import connect_url"
   ]
  },
  {
   "cell_type": "code",
   "execution_count": 2,
   "metadata": {},
   "outputs": [],
   "source": [
    "# 初始化数据库连接，使用pymysql模块\n",
    "engine = create_engine(connect_url)\n",
    "\n",
    "sql = '''\n",
    "    select * from electricity;\n",
    "'''\n",
    "# read_sql_query的两个参数: sql语句， 数据库连接\n",
    "df = pd.read_sql_query(sql, engine)"
   ]
  },
  {
   "cell_type": "code",
   "execution_count": 3,
   "metadata": {},
   "outputs": [
    {
     "data": {
      "text/plain": [
       "id                      int64\n",
       "electricity           float64\n",
       "aid                    object\n",
       "roomid                 object\n",
       "areaname               object\n",
       "buildingid              int64\n",
       "building               object\n",
       "insert_time    datetime64[ns]\n",
       "dtype: object"
      ]
     },
     "execution_count": 3,
     "metadata": {},
     "output_type": "execute_result"
    }
   ],
   "source": [
    "df.dtypes"
   ]
  },
  {
   "cell_type": "code",
   "execution_count": 4,
   "metadata": {},
   "outputs": [
    {
     "name": "stdout",
     "output_type": "stream",
     "text": [
      "当前最新数据日期 2021-12-29\n"
     ]
    }
   ],
   "source": [
    "latest_date = df.tail(1).loc[:,'insert_time'].astype(str).values[0].split(' ')[0]\n",
    "print('当前最新数据日期', latest_date)"
   ]
  },
  {
   "cell_type": "markdown",
   "metadata": {},
   "source": [
    "---"
   ]
  },
  {
   "cell_type": "markdown",
   "metadata": {},
   "source": [
    "### 2.天气数据准备"
   ]
  },
  {
   "cell_type": "code",
   "execution_count": 5,
   "metadata": {},
   "outputs": [
    {
     "name": "stdout",
     "output_type": "stream",
     "text": [
      "请运行下方的单元格以更新天气数据！\n"
     ]
    }
   ],
   "source": [
    "weather = pd.read_csv('./weather.csv')\n",
    "if weather.tail(1)['date'].values[0] != latest_date:\n",
    "    print('请运行下方的单元格以更新天气数据！')\n",
    "else:\n",
    "    print('数据库与天气数据已同步')\n"
   ]
  },
  {
   "cell_type": "code",
   "execution_count": 6,
   "metadata": {},
   "outputs": [],
   "source": [
    "#!python weather_clawler.py"
   ]
  },
  {
   "cell_type": "code",
   "execution_count": 7,
   "metadata": {},
   "outputs": [],
   "source": [
    "weather['max'] = weather['temperature'].map(lambda x: int(x.split('/')[0]))\n",
    "weather['min'] = weather['temperature'].map(lambda x: int(x.split('/')[1]))\n",
    "\n",
    "weather.drop('temperature', axis=1, inplace=True)"
   ]
  },
  {
   "cell_type": "code",
   "execution_count": 8,
   "metadata": {},
   "outputs": [
    {
     "data": {
      "text/html": [
       "<div>\n",
       "<style scoped>\n",
       "    .dataframe tbody tr th:only-of-type {\n",
       "        vertical-align: middle;\n",
       "    }\n",
       "\n",
       "    .dataframe tbody tr th {\n",
       "        vertical-align: top;\n",
       "    }\n",
       "\n",
       "    .dataframe thead th {\n",
       "        text-align: right;\n",
       "    }\n",
       "</style>\n",
       "<table border=\"1\" class=\"dataframe\">\n",
       "  <thead>\n",
       "    <tr style=\"text-align: right;\">\n",
       "      <th></th>\n",
       "      <th>date</th>\n",
       "      <th>weather</th>\n",
       "      <th>wind</th>\n",
       "      <th>max</th>\n",
       "      <th>min</th>\n",
       "    </tr>\n",
       "  </thead>\n",
       "  <tbody>\n",
       "    <tr>\n",
       "      <th>114</th>\n",
       "      <td>2021-12-24</td>\n",
       "      <td>小雨/小雨</td>\n",
       "      <td>北风1-2级/北风1-2级</td>\n",
       "      <td>12</td>\n",
       "      <td>3</td>\n",
       "    </tr>\n",
       "    <tr>\n",
       "      <th>115</th>\n",
       "      <td>2021-12-25</td>\n",
       "      <td>阴/阴</td>\n",
       "      <td>北风1-2级/北风1-2级</td>\n",
       "      <td>3</td>\n",
       "      <td>0</td>\n",
       "    </tr>\n",
       "    <tr>\n",
       "      <th>116</th>\n",
       "      <td>2021-12-26</td>\n",
       "      <td>中雪/小雪</td>\n",
       "      <td>北风1-2级/北风1-2级</td>\n",
       "      <td>1</td>\n",
       "      <td>-1</td>\n",
       "    </tr>\n",
       "    <tr>\n",
       "      <th>117</th>\n",
       "      <td>2021-12-27</td>\n",
       "      <td>小雪/阴</td>\n",
       "      <td>西北风1-2级/西北风1-2级</td>\n",
       "      <td>0</td>\n",
       "      <td>-1</td>\n",
       "    </tr>\n",
       "    <tr>\n",
       "      <th>118</th>\n",
       "      <td>2021-12-28</td>\n",
       "      <td>阴/小雨</td>\n",
       "      <td>北风1-2级/北风1-2级</td>\n",
       "      <td>4</td>\n",
       "      <td>0</td>\n",
       "    </tr>\n",
       "  </tbody>\n",
       "</table>\n",
       "</div>"
      ],
      "text/plain": [
       "           date weather             wind  max  min\n",
       "114  2021-12-24   小雨/小雨    北风1-2级/北风1-2级   12    3\n",
       "115  2021-12-25     阴/阴    北风1-2级/北风1-2级    3    0\n",
       "116  2021-12-26   中雪/小雪    北风1-2级/北风1-2级    1   -1\n",
       "117  2021-12-27    小雪/阴  西北风1-2级/西北风1-2级    0   -1\n",
       "118  2021-12-28    阴/小雨    北风1-2级/北风1-2级    4    0"
      ]
     },
     "execution_count": 8,
     "metadata": {},
     "output_type": "execute_result"
    }
   ],
   "source": [
    "weather.tail()"
   ]
  },
  {
   "cell_type": "markdown",
   "metadata": {},
   "source": [
    "---"
   ]
  },
  {
   "cell_type": "markdown",
   "metadata": {},
   "source": [
    "### 3.数据预处理"
   ]
  },
  {
   "cell_type": "code",
   "execution_count": 9,
   "metadata": {},
   "outputs": [],
   "source": [
    "# 去除无用列\n",
    "df = df.drop(['id', 'areaname', 'aid'], axis=1)\n",
    "# 组装门牌号\n",
    "df['uid'] = df['building'].astype(str) + df['roomid']\n",
    "# 简化时间\n",
    "df['insert_time'] = df['insert_time'].astype(str).map(lambda x: x.split(' ')[0])"
   ]
  },
  {
   "cell_type": "code",
   "execution_count": 10,
   "metadata": {},
   "outputs": [],
   "source": [
    "# 准备反向map的字典\n",
    "room_map = {}\n",
    "reverse_map = {}\n",
    "room_list = list(df['uid'].unique())\n",
    "\n",
    "for idx, room in enumerate(room_list):\n",
    "    room_map[room] = idx\n",
    "    reverse_map[idx] = room "
   ]
  },
  {
   "cell_type": "code",
   "execution_count": 11,
   "metadata": {},
   "outputs": [],
   "source": [
    "# 为每一个房间设置唯一id 便于之后操作\n",
    "df['uid'] = df['uid'].map(room_map)"
   ]
  },
  {
   "cell_type": "code",
   "execution_count": 12,
   "metadata": {},
   "outputs": [
    {
     "data": {
      "text/html": [
       "<div>\n",
       "<style scoped>\n",
       "    .dataframe tbody tr th:only-of-type {\n",
       "        vertical-align: middle;\n",
       "    }\n",
       "\n",
       "    .dataframe tbody tr th {\n",
       "        vertical-align: top;\n",
       "    }\n",
       "\n",
       "    .dataframe thead th {\n",
       "        text-align: right;\n",
       "    }\n",
       "</style>\n",
       "<table border=\"1\" class=\"dataframe\">\n",
       "  <thead>\n",
       "    <tr style=\"text-align: right;\">\n",
       "      <th></th>\n",
       "      <th>electricity</th>\n",
       "      <th>buildingid</th>\n",
       "      <th>insert_time</th>\n",
       "      <th>uid</th>\n",
       "      <th>room</th>\n",
       "    </tr>\n",
       "  </thead>\n",
       "  <tbody>\n",
       "    <tr>\n",
       "      <th>0</th>\n",
       "      <td>29.15</td>\n",
       "      <td>471</td>\n",
       "      <td>2021-09-20</td>\n",
       "      <td>0</td>\n",
       "      <td>16栋A区-A201</td>\n",
       "    </tr>\n",
       "    <tr>\n",
       "      <th>1</th>\n",
       "      <td>201.50</td>\n",
       "      <td>471</td>\n",
       "      <td>2021-09-20</td>\n",
       "      <td>1</td>\n",
       "      <td>16栋A区-A202</td>\n",
       "    </tr>\n",
       "    <tr>\n",
       "      <th>2</th>\n",
       "      <td>488.38</td>\n",
       "      <td>471</td>\n",
       "      <td>2021-09-20</td>\n",
       "      <td>2</td>\n",
       "      <td>16栋A区-A207</td>\n",
       "    </tr>\n",
       "    <tr>\n",
       "      <th>3</th>\n",
       "      <td>245.98</td>\n",
       "      <td>471</td>\n",
       "      <td>2021-09-20</td>\n",
       "      <td>3</td>\n",
       "      <td>16栋A区-A209</td>\n",
       "    </tr>\n",
       "    <tr>\n",
       "      <th>4</th>\n",
       "      <td>215.70</td>\n",
       "      <td>471</td>\n",
       "      <td>2021-09-20</td>\n",
       "      <td>4</td>\n",
       "      <td>16栋A区-A211</td>\n",
       "    </tr>\n",
       "  </tbody>\n",
       "</table>\n",
       "</div>"
      ],
      "text/plain": [
       "   electricity  buildingid insert_time  uid        room\n",
       "0        29.15         471  2021-09-20    0  16栋A区-A201\n",
       "1       201.50         471  2021-09-20    1  16栋A区-A202\n",
       "2       488.38         471  2021-09-20    2  16栋A区-A207\n",
       "3       245.98         471  2021-09-20    3  16栋A区-A209\n",
       "4       215.70         471  2021-09-20    4  16栋A区-A211"
      ]
     },
     "execution_count": 12,
     "metadata": {},
     "output_type": "execute_result"
    }
   ],
   "source": [
    "# 拼接地址 简化数据字段\n",
    "df['room'] = df['building'] + '-' + df['roomid']\n",
    "df = df.drop(['building', 'roomid'], axis=1)\n",
    "df.head()"
   ]
  },
  {
   "cell_type": "code",
   "execution_count": 13,
   "metadata": {},
   "outputs": [
    {
     "data": {
      "text/html": [
       "<div>\n",
       "<style scoped>\n",
       "    .dataframe tbody tr th:only-of-type {\n",
       "        vertical-align: middle;\n",
       "    }\n",
       "\n",
       "    .dataframe tbody tr th {\n",
       "        vertical-align: top;\n",
       "    }\n",
       "\n",
       "    .dataframe thead th {\n",
       "        text-align: right;\n",
       "    }\n",
       "</style>\n",
       "<table border=\"1\" class=\"dataframe\">\n",
       "  <thead>\n",
       "    <tr style=\"text-align: right;\">\n",
       "      <th></th>\n",
       "      <th>electricity</th>\n",
       "      <th>buildingid</th>\n",
       "      <th>insert_time</th>\n",
       "      <th>uid</th>\n",
       "      <th>room</th>\n",
       "      <th>weather</th>\n",
       "      <th>wind</th>\n",
       "      <th>max</th>\n",
       "      <th>min</th>\n",
       "    </tr>\n",
       "  </thead>\n",
       "  <tbody>\n",
       "    <tr>\n",
       "      <th>480413</th>\n",
       "      <td>47.89</td>\n",
       "      <td>50</td>\n",
       "      <td>2021-12-28</td>\n",
       "      <td>4999</td>\n",
       "      <td>至诚轩4栋B区-B624</td>\n",
       "      <td>阴/小雨</td>\n",
       "      <td>北风1-2级/北风1-2级</td>\n",
       "      <td>4</td>\n",
       "      <td>0</td>\n",
       "    </tr>\n",
       "    <tr>\n",
       "      <th>480414</th>\n",
       "      <td>10.93</td>\n",
       "      <td>50</td>\n",
       "      <td>2021-12-28</td>\n",
       "      <td>5000</td>\n",
       "      <td>至诚轩4栋B区-B625</td>\n",
       "      <td>阴/小雨</td>\n",
       "      <td>北风1-2级/北风1-2级</td>\n",
       "      <td>4</td>\n",
       "      <td>0</td>\n",
       "    </tr>\n",
       "    <tr>\n",
       "      <th>480415</th>\n",
       "      <td>53.27</td>\n",
       "      <td>50</td>\n",
       "      <td>2021-12-28</td>\n",
       "      <td>5001</td>\n",
       "      <td>至诚轩4栋B区-B627</td>\n",
       "      <td>阴/小雨</td>\n",
       "      <td>北风1-2级/北风1-2级</td>\n",
       "      <td>4</td>\n",
       "      <td>0</td>\n",
       "    </tr>\n",
       "    <tr>\n",
       "      <th>480416</th>\n",
       "      <td>55.31</td>\n",
       "      <td>50</td>\n",
       "      <td>2021-12-28</td>\n",
       "      <td>5002</td>\n",
       "      <td>至诚轩4栋B区-B628</td>\n",
       "      <td>阴/小雨</td>\n",
       "      <td>北风1-2级/北风1-2级</td>\n",
       "      <td>4</td>\n",
       "      <td>0</td>\n",
       "    </tr>\n",
       "    <tr>\n",
       "      <th>480417</th>\n",
       "      <td>56.95</td>\n",
       "      <td>50</td>\n",
       "      <td>2021-12-28</td>\n",
       "      <td>5003</td>\n",
       "      <td>至诚轩4栋B区-B629</td>\n",
       "      <td>阴/小雨</td>\n",
       "      <td>北风1-2级/北风1-2级</td>\n",
       "      <td>4</td>\n",
       "      <td>0</td>\n",
       "    </tr>\n",
       "  </tbody>\n",
       "</table>\n",
       "</div>"
      ],
      "text/plain": [
       "        electricity  buildingid insert_time   uid          room weather  \\\n",
       "480413        47.89          50  2021-12-28  4999  至诚轩4栋B区-B624    阴/小雨   \n",
       "480414        10.93          50  2021-12-28  5000  至诚轩4栋B区-B625    阴/小雨   \n",
       "480415        53.27          50  2021-12-28  5001  至诚轩4栋B区-B627    阴/小雨   \n",
       "480416        55.31          50  2021-12-28  5002  至诚轩4栋B区-B628    阴/小雨   \n",
       "480417        56.95          50  2021-12-28  5003  至诚轩4栋B区-B629    阴/小雨   \n",
       "\n",
       "                 wind  max  min  \n",
       "480413  北风1-2级/北风1-2级    4    0  \n",
       "480414  北风1-2级/北风1-2级    4    0  \n",
       "480415  北风1-2级/北风1-2级    4    0  \n",
       "480416  北风1-2级/北风1-2级    4    0  \n",
       "480417  北风1-2级/北风1-2级    4    0  "
      ]
     },
     "execution_count": 13,
     "metadata": {},
     "output_type": "execute_result"
    }
   ],
   "source": [
    "# 增加天气\n",
    "df = pd.merge(df, weather, left_on='insert_time', right_on='date').drop('date', axis=1)\n",
    "df.tail()"
   ]
  },
  {
   "cell_type": "markdown",
   "metadata": {},
   "source": [
    "---"
   ]
  },
  {
   "cell_type": "markdown",
   "metadata": {},
   "source": [
    "### 4深度清洗"
   ]
  },
  {
   "cell_type": "code",
   "execution_count": 14,
   "metadata": {},
   "outputs": [],
   "source": [
    "# 根据 uid 进行聚合\n",
    "group = df.groupby('uid')"
   ]
  },
  {
   "cell_type": "code",
   "execution_count": 15,
   "metadata": {},
   "outputs": [],
   "source": [
    "# 定义清洗函数\n",
    "def cal_consumeNcharge(df):\n",
    "    df = df.reset_index()\n",
    "    df.sort_values('insert_time', inplace=True)\n",
    "    # 计算单日耗电量\n",
    "    df['consume'] = df['electricity'].shift(1) - df['electricity']\n",
    "    # 计算单日充值数 （不准确 因为单日的充值完毕还会有损耗 后续加上）\n",
    "    df['charge'] = df['consume'].map(lambda x: -x if x<0 else 0)\n",
    "\n",
    "    # 异常数据不加入cleaned data\n",
    "    if (df['charge'] > 3000).any() == True:\n",
    "        return pd.DataFrame()\n",
    "\n",
    "    # 处理充值日期的损耗\n",
    "    df['consume'] = df['consume'].map(lambda x: x if x>0 else None)\n",
    "    # 由于充值当天的消耗未知 转而用后一天的消耗进行填充\n",
    "    df['consume'] = df['consume'].fillna(method='backfill')\n",
    "    # 设置bool标记\n",
    "    df['isCharged'] = df['charge'] > 0\n",
    "    # 为充值了的日期添加消耗 得到近似真实的充值\n",
    "    idx = df[df['isCharged'] == True].index.tolist()\n",
    "    df.loc[idx, 'charge'] = df.loc[idx, 'charge'] + df.loc[idx, 'consume']\n",
    "\n",
    "    df.drop('index', inplace=True, axis=1)\n",
    "    return df"
   ]
  },
  {
   "cell_type": "code",
   "execution_count": 16,
   "metadata": {},
   "outputs": [],
   "source": [
    "clean_data = group.apply(cal_consumeNcharge)"
   ]
  },
  {
   "cell_type": "code",
   "execution_count": 17,
   "metadata": {},
   "outputs": [],
   "source": [
    "# 获取离群异常值 并去除（单日充值or消耗大于1000即为异常值）\n",
    "drop_row_index = list(clean_data[clean_data['charge'] > 1000].drop('uid', axis=1).reset_index().loc[:,'uid'].array) + \\\n",
    "                 list(clean_data[clean_data['consume'] > 1000].drop('uid', axis=1).reset_index().loc[:,'uid'].array)\n"
   ]
  },
  {
   "cell_type": "code",
   "execution_count": 18,
   "metadata": {},
   "outputs": [
    {
     "name": "stdout",
     "output_type": "stream",
     "text": [
      "离群点个数 51\n"
     ]
    }
   ],
   "source": [
    "print('离群点个数', len(drop_row_index))"
   ]
  },
  {
   "cell_type": "code",
   "execution_count": 19,
   "metadata": {},
   "outputs": [],
   "source": [
    "# 去除异常值\n",
    "clean_data = clean_data[~clean_data['uid'].isin(drop_row_index)]"
   ]
  },
  {
   "cell_type": "code",
   "execution_count": 20,
   "metadata": {},
   "outputs": [],
   "source": [
    "clean_data['uid'] = clean_data['uid'].astype(str)\n",
    "clean_data['buildingid'] = clean_data['buildingid'].astype(str)"
   ]
  },
  {
   "cell_type": "code",
   "execution_count": 21,
   "metadata": {},
   "outputs": [
    {
     "data": {
      "text/html": [
       "<div>\n",
       "<style scoped>\n",
       "    .dataframe tbody tr th:only-of-type {\n",
       "        vertical-align: middle;\n",
       "    }\n",
       "\n",
       "    .dataframe tbody tr th {\n",
       "        vertical-align: top;\n",
       "    }\n",
       "\n",
       "    .dataframe thead th {\n",
       "        text-align: right;\n",
       "    }\n",
       "</style>\n",
       "<table border=\"1\" class=\"dataframe\">\n",
       "  <thead>\n",
       "    <tr style=\"text-align: right;\">\n",
       "      <th></th>\n",
       "      <th></th>\n",
       "      <th>electricity</th>\n",
       "      <th>buildingid</th>\n",
       "      <th>insert_time</th>\n",
       "      <th>uid</th>\n",
       "      <th>room</th>\n",
       "      <th>weather</th>\n",
       "      <th>wind</th>\n",
       "      <th>max</th>\n",
       "      <th>min</th>\n",
       "      <th>consume</th>\n",
       "      <th>charge</th>\n",
       "      <th>isCharged</th>\n",
       "    </tr>\n",
       "    <tr>\n",
       "      <th>uid</th>\n",
       "      <th></th>\n",
       "      <th></th>\n",
       "      <th></th>\n",
       "      <th></th>\n",
       "      <th></th>\n",
       "      <th></th>\n",
       "      <th></th>\n",
       "      <th></th>\n",
       "      <th></th>\n",
       "      <th></th>\n",
       "      <th></th>\n",
       "      <th></th>\n",
       "      <th></th>\n",
       "    </tr>\n",
       "  </thead>\n",
       "  <tbody>\n",
       "    <tr>\n",
       "      <th rowspan=\"5\" valign=\"top\">0</th>\n",
       "      <th>0</th>\n",
       "      <td>29.15</td>\n",
       "      <td>471.0</td>\n",
       "      <td>2021-09-20</td>\n",
       "      <td>0.0</td>\n",
       "      <td>16栋A区-A201</td>\n",
       "      <td>多云/晴</td>\n",
       "      <td>东北风1-2级/东北风1-2级</td>\n",
       "      <td>29.0</td>\n",
       "      <td>21.0</td>\n",
       "      <td>10.9</td>\n",
       "      <td>0</td>\n",
       "      <td>False</td>\n",
       "    </tr>\n",
       "    <tr>\n",
       "      <th>1</th>\n",
       "      <td>18.25</td>\n",
       "      <td>471.0</td>\n",
       "      <td>2021-09-21</td>\n",
       "      <td>0.0</td>\n",
       "      <td>16栋A区-A201</td>\n",
       "      <td>晴/晴</td>\n",
       "      <td>东风1-2级/东风1-2级</td>\n",
       "      <td>34.0</td>\n",
       "      <td>20.0</td>\n",
       "      <td>10.9</td>\n",
       "      <td>0</td>\n",
       "      <td>False</td>\n",
       "    </tr>\n",
       "    <tr>\n",
       "      <th>2</th>\n",
       "      <td>5.28</td>\n",
       "      <td>471.0</td>\n",
       "      <td>2021-09-22</td>\n",
       "      <td>0.0</td>\n",
       "      <td>16栋A区-A201</td>\n",
       "      <td>晴/晴</td>\n",
       "      <td>东北风1-2级/东北风1-2级</td>\n",
       "      <td>36.0</td>\n",
       "      <td>23.0</td>\n",
       "      <td>12.97</td>\n",
       "      <td>0</td>\n",
       "      <td>False</td>\n",
       "    </tr>\n",
       "    <tr>\n",
       "      <th>3</th>\n",
       "      <td>39.25</td>\n",
       "      <td>471.0</td>\n",
       "      <td>2021-09-23</td>\n",
       "      <td>0.0</td>\n",
       "      <td>16栋A区-A201</td>\n",
       "      <td>晴/晴</td>\n",
       "      <td>东风1-2级/东风1-2级</td>\n",
       "      <td>37.0</td>\n",
       "      <td>26.0</td>\n",
       "      <td>20.51</td>\n",
       "      <td>54.48</td>\n",
       "      <td>True</td>\n",
       "    </tr>\n",
       "    <tr>\n",
       "      <th>4</th>\n",
       "      <td>679.08</td>\n",
       "      <td>471.0</td>\n",
       "      <td>2021-09-24</td>\n",
       "      <td>0.0</td>\n",
       "      <td>16栋A区-A201</td>\n",
       "      <td>晴/晴</td>\n",
       "      <td>东南风1-2级/东南风1-2级</td>\n",
       "      <td>37.0</td>\n",
       "      <td>27.0</td>\n",
       "      <td>20.51</td>\n",
       "      <td>660.34</td>\n",
       "      <td>True</td>\n",
       "    </tr>\n",
       "  </tbody>\n",
       "</table>\n",
       "</div>"
      ],
      "text/plain": [
       "       electricity buildingid insert_time  uid        room weather  \\\n",
       "uid                                                                  \n",
       "0   0        29.15      471.0  2021-09-20  0.0  16栋A区-A201    多云/晴   \n",
       "    1        18.25      471.0  2021-09-21  0.0  16栋A区-A201     晴/晴   \n",
       "    2         5.28      471.0  2021-09-22  0.0  16栋A区-A201     晴/晴   \n",
       "    3        39.25      471.0  2021-09-23  0.0  16栋A区-A201     晴/晴   \n",
       "    4       679.08      471.0  2021-09-24  0.0  16栋A区-A201     晴/晴   \n",
       "\n",
       "                  wind   max   min consume  charge isCharged  \n",
       "uid                                                           \n",
       "0   0  东北风1-2级/东北风1-2级  29.0  21.0    10.9       0     False  \n",
       "    1    东风1-2级/东风1-2级  34.0  20.0    10.9       0     False  \n",
       "    2  东北风1-2级/东北风1-2级  36.0  23.0   12.97       0     False  \n",
       "    3    东风1-2级/东风1-2级  37.0  26.0   20.51   54.48      True  \n",
       "    4  东南风1-2级/东南风1-2级  37.0  27.0   20.51  660.34      True  "
      ]
     },
     "execution_count": 21,
     "metadata": {},
     "output_type": "execute_result"
    }
   ],
   "source": [
    "clean_data.head()"
   ]
  },
  {
   "cell_type": "code",
   "execution_count": 22,
   "metadata": {},
   "outputs": [
    {
     "name": "stdout",
     "output_type": "stream",
     "text": [
      "保存完毕\n"
     ]
    }
   ],
   "source": [
    "# 保存数据 便于之后使用\n",
    "# with open('./cleaned.json', 'wb') as f:\n",
    "#     f.write(clean_data.to_json(orient='records').encode())\n",
    "\n",
    "clean_data.to_csv('./electricity_cleaned.csv', index=False)\n",
    "print('保存完毕')"
   ]
  },
  {
   "cell_type": "markdown",
   "metadata": {},
   "source": [
    "---"
   ]
  },
  {
   "cell_type": "markdown",
   "metadata": {},
   "source": [
    "### 5.按照个体分析"
   ]
  },
  {
   "cell_type": "code",
   "execution_count": 23,
   "metadata": {},
   "outputs": [],
   "source": [
    "import pandas as pd\n",
    "import numpy as np\n",
    "import matplotlib.pyplot as plt\n",
    "\n",
    "plt.rcParams[\"font.sans-serif\"]=[\"PingFang SC\"] #设置字体\n",
    "plt.rcParams[\"axes.unicode_minus\"]=False #正常显示负号"
   ]
  },
  {
   "cell_type": "code",
   "execution_count": 24,
   "metadata": {},
   "outputs": [],
   "source": [
    "df = pd.read_csv('./electricity_cleaned.csv')"
   ]
  },
  {
   "cell_type": "code",
   "execution_count": 25,
   "metadata": {},
   "outputs": [],
   "source": [
    "df['uid'] = df['uid'].astype(int)\n",
    "df['buildingid'] = df['buildingid'].astype(int)"
   ]
  },
  {
   "cell_type": "code",
   "execution_count": 26,
   "metadata": {},
   "outputs": [
    {
     "data": {
      "text/html": [
       "<div>\n",
       "<style scoped>\n",
       "    .dataframe tbody tr th:only-of-type {\n",
       "        vertical-align: middle;\n",
       "    }\n",
       "\n",
       "    .dataframe tbody tr th {\n",
       "        vertical-align: top;\n",
       "    }\n",
       "\n",
       "    .dataframe thead th {\n",
       "        text-align: right;\n",
       "    }\n",
       "</style>\n",
       "<table border=\"1\" class=\"dataframe\">\n",
       "  <thead>\n",
       "    <tr style=\"text-align: right;\">\n",
       "      <th></th>\n",
       "      <th>electricity</th>\n",
       "      <th>buildingid</th>\n",
       "      <th>insert_time</th>\n",
       "      <th>uid</th>\n",
       "      <th>room</th>\n",
       "      <th>weather</th>\n",
       "      <th>wind</th>\n",
       "      <th>max</th>\n",
       "      <th>min</th>\n",
       "      <th>consume</th>\n",
       "      <th>charge</th>\n",
       "      <th>isCharged</th>\n",
       "    </tr>\n",
       "  </thead>\n",
       "  <tbody>\n",
       "    <tr>\n",
       "      <th>0</th>\n",
       "      <td>29.15</td>\n",
       "      <td>471</td>\n",
       "      <td>2021-09-20</td>\n",
       "      <td>0</td>\n",
       "      <td>16栋A区-A201</td>\n",
       "      <td>多云/晴</td>\n",
       "      <td>东北风1-2级/东北风1-2级</td>\n",
       "      <td>29.0</td>\n",
       "      <td>21.0</td>\n",
       "      <td>10.90</td>\n",
       "      <td>0.00</td>\n",
       "      <td>False</td>\n",
       "    </tr>\n",
       "    <tr>\n",
       "      <th>1</th>\n",
       "      <td>18.25</td>\n",
       "      <td>471</td>\n",
       "      <td>2021-09-21</td>\n",
       "      <td>0</td>\n",
       "      <td>16栋A区-A201</td>\n",
       "      <td>晴/晴</td>\n",
       "      <td>东风1-2级/东风1-2级</td>\n",
       "      <td>34.0</td>\n",
       "      <td>20.0</td>\n",
       "      <td>10.90</td>\n",
       "      <td>0.00</td>\n",
       "      <td>False</td>\n",
       "    </tr>\n",
       "    <tr>\n",
       "      <th>2</th>\n",
       "      <td>5.28</td>\n",
       "      <td>471</td>\n",
       "      <td>2021-09-22</td>\n",
       "      <td>0</td>\n",
       "      <td>16栋A区-A201</td>\n",
       "      <td>晴/晴</td>\n",
       "      <td>东北风1-2级/东北风1-2级</td>\n",
       "      <td>36.0</td>\n",
       "      <td>23.0</td>\n",
       "      <td>12.97</td>\n",
       "      <td>0.00</td>\n",
       "      <td>False</td>\n",
       "    </tr>\n",
       "    <tr>\n",
       "      <th>3</th>\n",
       "      <td>39.25</td>\n",
       "      <td>471</td>\n",
       "      <td>2021-09-23</td>\n",
       "      <td>0</td>\n",
       "      <td>16栋A区-A201</td>\n",
       "      <td>晴/晴</td>\n",
       "      <td>东风1-2级/东风1-2级</td>\n",
       "      <td>37.0</td>\n",
       "      <td>26.0</td>\n",
       "      <td>20.51</td>\n",
       "      <td>54.48</td>\n",
       "      <td>True</td>\n",
       "    </tr>\n",
       "    <tr>\n",
       "      <th>4</th>\n",
       "      <td>679.08</td>\n",
       "      <td>471</td>\n",
       "      <td>2021-09-24</td>\n",
       "      <td>0</td>\n",
       "      <td>16栋A区-A201</td>\n",
       "      <td>晴/晴</td>\n",
       "      <td>东南风1-2级/东南风1-2级</td>\n",
       "      <td>37.0</td>\n",
       "      <td>27.0</td>\n",
       "      <td>20.51</td>\n",
       "      <td>660.34</td>\n",
       "      <td>True</td>\n",
       "    </tr>\n",
       "  </tbody>\n",
       "</table>\n",
       "</div>"
      ],
      "text/plain": [
       "   electricity  buildingid insert_time  uid        room weather  \\\n",
       "0        29.15         471  2021-09-20    0  16栋A区-A201    多云/晴   \n",
       "1        18.25         471  2021-09-21    0  16栋A区-A201     晴/晴   \n",
       "2         5.28         471  2021-09-22    0  16栋A区-A201     晴/晴   \n",
       "3        39.25         471  2021-09-23    0  16栋A区-A201     晴/晴   \n",
       "4       679.08         471  2021-09-24    0  16栋A区-A201     晴/晴   \n",
       "\n",
       "              wind   max   min  consume  charge  isCharged  \n",
       "0  东北风1-2级/东北风1-2级  29.0  21.0    10.90    0.00      False  \n",
       "1    东风1-2级/东风1-2级  34.0  20.0    10.90    0.00      False  \n",
       "2  东北风1-2级/东北风1-2级  36.0  23.0    12.97    0.00      False  \n",
       "3    东风1-2级/东风1-2级  37.0  26.0    20.51   54.48       True  \n",
       "4  东南风1-2级/东南风1-2级  37.0  27.0    20.51  660.34       True  "
      ]
     },
     "execution_count": 26,
     "metadata": {},
     "output_type": "execute_result"
    }
   ],
   "source": [
    "df.head()"
   ]
  },
  {
   "cell_type": "code",
   "execution_count": 27,
   "metadata": {},
   "outputs": [],
   "source": [
    "# 构造uid map\n",
    "df['map'] = df['uid'].astype(str) + '_' + df['room']\n",
    "map_list = df['map'].unique().tolist()\n",
    "\n",
    "uid_map = {}\n",
    "for item in map_list:\n",
    "    pt = item.split('_')\n",
    "    uid_map[pt[0]] = pt[1]"
   ]
  },
  {
   "cell_type": "code",
   "execution_count": 28,
   "metadata": {},
   "outputs": [],
   "source": [
    "# 指定自己的sample\n",
    "sample = df.groupby('uid').get_group(0)"
   ]
  },
  {
   "cell_type": "code",
   "execution_count": 29,
   "metadata": {},
   "outputs": [
    {
     "name": "stdout",
     "output_type": "stream",
     "text": [
      "   electricity  buildingid insert_time  uid        room weather  \\\n",
      "0        29.15         471  2021-09-20    0  16栋A区-A201    多云/晴   \n",
      "1        18.25         471  2021-09-21    0  16栋A区-A201     晴/晴   \n",
      "2         5.28         471  2021-09-22    0  16栋A区-A201     晴/晴   \n",
      "3        39.25         471  2021-09-23    0  16栋A区-A201     晴/晴   \n",
      "4       679.08         471  2021-09-24    0  16栋A区-A201     晴/晴   \n",
      "\n",
      "              wind   max   min  consume  charge  isCharged           map  \n",
      "0  东北风1-2级/东北风1-2级  29.0  21.0    10.90    0.00      False  0_16栋A区-A201  \n",
      "1    东风1-2级/东风1-2级  34.0  20.0    10.90    0.00      False  0_16栋A区-A201  \n",
      "2  东北风1-2级/东北风1-2级  36.0  23.0    12.97    0.00      False  0_16栋A区-A201  \n",
      "3    东风1-2级/东风1-2级  37.0  26.0    20.51   54.48       True  0_16栋A区-A201  \n",
      "4  东南风1-2级/东南风1-2级  37.0  27.0    20.51  660.34       True  0_16栋A区-A201  \n"
     ]
    },
    {
     "data": {
      "image/png": "[encoded data removed]",
      "text/plain": [
       "<Figure size 432x288 with 2 Axes>"
      ]
     },
     "metadata": {
      "needs_background": "light"
     },
     "output_type": "display_data"
    }
   ],
   "source": [
    "def draw(df):\n",
    "    x = df['insert_time'].ravel()\n",
    "    y = df['electricity'].ravel()\n",
    "    y_ = df['consume'].ravel()\n",
    "    plt.subplot(2,  2,  1)\n",
    "    plt.xticks(range(0, len(x), 20), rotation=25)\n",
    "    plt.plot(x, y)\n",
    "    plt.title('electricity')\n",
    "\n",
    "    plt.subplot(2,  2,  2) \n",
    "    plt.xticks(range(0, len(x), 20), rotation=25)\n",
    "    plt.plot(x, y_) \n",
    "    plt.title('consume')   \n",
    "    print(df.head())\n",
    "    \n",
    "\n",
    "draw(sample)\n",
    "    "
   ]
  },
  {
   "cell_type": "markdown",
   "metadata": {},
   "source": [
    "---"
   ]
  },
  {
   "cell_type": "markdown",
   "metadata": {},
   "source": [
    "### 6.按日期分析"
   ]
  },
  {
   "cell_type": "code",
   "execution_count": 30,
   "metadata": {},
   "outputs": [],
   "source": [
    "date_group = df.groupby('insert_time')"
   ]
  },
  {
   "cell_type": "code",
   "execution_count": 31,
   "metadata": {},
   "outputs": [],
   "source": [
    "date_analysis = date_group.agg(['sum', 'mean']).loc[:, ['consume', 'charge']].reset_index()"
   ]
  },
  {
   "cell_type": "code",
   "execution_count": 32,
   "metadata": {},
   "outputs": [
    {
     "data": {
      "text/html": [
       "<div>\n",
       "<style scoped>\n",
       "    .dataframe tbody tr th:only-of-type {\n",
       "        vertical-align: middle;\n",
       "    }\n",
       "\n",
       "    .dataframe tbody tr th {\n",
       "        vertical-align: top;\n",
       "    }\n",
       "\n",
       "    .dataframe thead tr th {\n",
       "        text-align: left;\n",
       "    }\n",
       "</style>\n",
       "<table border=\"1\" class=\"dataframe\">\n",
       "  <thead>\n",
       "    <tr>\n",
       "      <th></th>\n",
       "      <th>insert_time</th>\n",
       "      <th colspan=\"2\" halign=\"left\">consume</th>\n",
       "      <th colspan=\"2\" halign=\"left\">charge</th>\n",
       "    </tr>\n",
       "    <tr>\n",
       "      <th></th>\n",
       "      <th></th>\n",
       "      <th>sum</th>\n",
       "      <th>mean</th>\n",
       "      <th>sum</th>\n",
       "      <th>mean</th>\n",
       "    </tr>\n",
       "  </thead>\n",
       "  <tbody>\n",
       "    <tr>\n",
       "      <th>0</th>\n",
       "      <td>2021-09-20</td>\n",
       "      <td>28030.16</td>\n",
       "      <td>5.743885</td>\n",
       "      <td>0.00</td>\n",
       "      <td>0.000000</td>\n",
       "    </tr>\n",
       "    <tr>\n",
       "      <th>1</th>\n",
       "      <td>2021-09-21</td>\n",
       "      <td>27853.16</td>\n",
       "      <td>5.718161</td>\n",
       "      <td>25744.18</td>\n",
       "      <td>5.180958</td>\n",
       "    </tr>\n",
       "    <tr>\n",
       "      <th>2</th>\n",
       "      <td>2021-09-22</td>\n",
       "      <td>39819.40</td>\n",
       "      <td>8.203420</td>\n",
       "      <td>42379.60</td>\n",
       "      <td>8.564996</td>\n",
       "    </tr>\n",
       "    <tr>\n",
       "      <th>3</th>\n",
       "      <td>2021-09-23</td>\n",
       "      <td>41618.39</td>\n",
       "      <td>8.645283</td>\n",
       "      <td>43685.94</td>\n",
       "      <td>8.893717</td>\n",
       "    </tr>\n",
       "    <tr>\n",
       "      <th>4</th>\n",
       "      <td>2021-09-24</td>\n",
       "      <td>56063.98</td>\n",
       "      <td>11.509747</td>\n",
       "      <td>52128.15</td>\n",
       "      <td>10.492784</td>\n",
       "    </tr>\n",
       "  </tbody>\n",
       "</table>\n",
       "</div>"
      ],
      "text/plain": [
       "  insert_time   consume               charge           \n",
       "                    sum       mean       sum       mean\n",
       "0  2021-09-20  28030.16   5.743885      0.00   0.000000\n",
       "1  2021-09-21  27853.16   5.718161  25744.18   5.180958\n",
       "2  2021-09-22  39819.40   8.203420  42379.60   8.564996\n",
       "3  2021-09-23  41618.39   8.645283  43685.94   8.893717\n",
       "4  2021-09-24  56063.98  11.509747  52128.15  10.492784"
      ]
     },
     "execution_count": 32,
     "metadata": {},
     "output_type": "execute_result"
    }
   ],
   "source": [
    "date_analysis.head()"
   ]
  },
  {
   "cell_type": "code",
   "execution_count": 33,
   "metadata": {},
   "outputs": [
    {
     "data": {
      "image/png": "[encoded data removed]",
      "text/plain": [
       "<Figure size 600x400 with 2 Axes>"
      ]
     },
     "metadata": {
      "needs_background": "light"
     },
     "output_type": "display_data"
    }
   ],
   "source": [
    "def draw_date(df):\n",
    "    x = df['insert_time'].ravel()\n",
    "    y = df['charge']['sum'].ravel()\n",
    "    y_ = df['consume']['mean'].ravel()\n",
    "    \n",
    "    plt.figure(dpi=100)\n",
    "    plt.suptitle('Analysis By Date', fontsize=16)\n",
    "    \n",
    "    plt.subplot(4,  2,  1)\n",
    "    plt.xticks(range(0, len(x), 20), rotation=25)\n",
    "    plt.plot(x, y)\n",
    "    plt.title('charge sum', fontsize=10)\n",
    "\n",
    "    plt.subplot(4,  2,  2) \n",
    "    plt.xticks(range(0, len(x), 20), rotation=25)\n",
    "    plt.plot(x, y_) \n",
    "    plt.title('consume average', fontsize=10)   \n",
    "\n",
    "\n",
    "draw_date(date_analysis)"
   ]
  },
  {
   "cell_type": "markdown",
   "metadata": {},
   "source": [
    "可以看到consume average在10月初的时候有一轮骤降，排除爬虫的故障，考虑到是国庆节人员流动导致的电费波动。"
   ]
  },
  {
   "cell_type": "code",
   "execution_count": 34,
   "metadata": {},
   "outputs": [
    {
     "data": {
      "text/html": [
       "<div>\n",
       "<style scoped>\n",
       "    .dataframe tbody tr th:only-of-type {\n",
       "        vertical-align: middle;\n",
       "    }\n",
       "\n",
       "    .dataframe tbody tr th {\n",
       "        vertical-align: top;\n",
       "    }\n",
       "\n",
       "    .dataframe thead th {\n",
       "        text-align: right;\n",
       "    }\n",
       "</style>\n",
       "<table border=\"1\" class=\"dataframe\">\n",
       "  <thead>\n",
       "    <tr style=\"text-align: right;\">\n",
       "      <th></th>\n",
       "      <th>count</th>\n",
       "      <th>mean</th>\n",
       "      <th>std</th>\n",
       "      <th>min</th>\n",
       "      <th>25%</th>\n",
       "      <th>50%</th>\n",
       "      <th>75%</th>\n",
       "      <th>max</th>\n",
       "    </tr>\n",
       "    <tr>\n",
       "      <th>insert_time</th>\n",
       "      <th></th>\n",
       "      <th></th>\n",
       "      <th></th>\n",
       "      <th></th>\n",
       "      <th></th>\n",
       "      <th></th>\n",
       "      <th></th>\n",
       "      <th></th>\n",
       "    </tr>\n",
       "  </thead>\n",
       "  <tbody>\n",
       "    <tr>\n",
       "      <th>2021-09-20</th>\n",
       "      <td>4880.0</td>\n",
       "      <td>5.743885</td>\n",
       "      <td>4.349534</td>\n",
       "      <td>0.01</td>\n",
       "      <td>3.0100</td>\n",
       "      <td>5.280</td>\n",
       "      <td>7.7725</td>\n",
       "      <td>164.12</td>\n",
       "    </tr>\n",
       "    <tr>\n",
       "      <th>2021-09-21</th>\n",
       "      <td>4871.0</td>\n",
       "      <td>5.718161</td>\n",
       "      <td>4.303444</td>\n",
       "      <td>0.01</td>\n",
       "      <td>3.0050</td>\n",
       "      <td>5.280</td>\n",
       "      <td>7.7700</td>\n",
       "      <td>164.12</td>\n",
       "    </tr>\n",
       "    <tr>\n",
       "      <th>2021-09-22</th>\n",
       "      <td>4854.0</td>\n",
       "      <td>8.203420</td>\n",
       "      <td>4.336307</td>\n",
       "      <td>0.01</td>\n",
       "      <td>4.9100</td>\n",
       "      <td>7.815</td>\n",
       "      <td>10.9950</td>\n",
       "      <td>34.66</td>\n",
       "    </tr>\n",
       "    <tr>\n",
       "      <th>2021-09-23</th>\n",
       "      <td>4814.0</td>\n",
       "      <td>8.645283</td>\n",
       "      <td>4.534765</td>\n",
       "      <td>0.01</td>\n",
       "      <td>5.2825</td>\n",
       "      <td>8.245</td>\n",
       "      <td>11.4800</td>\n",
       "      <td>28.41</td>\n",
       "    </tr>\n",
       "    <tr>\n",
       "      <th>2021-09-24</th>\n",
       "      <td>4871.0</td>\n",
       "      <td>11.509747</td>\n",
       "      <td>6.446569</td>\n",
       "      <td>0.01</td>\n",
       "      <td>7.7000</td>\n",
       "      <td>11.180</td>\n",
       "      <td>14.6950</td>\n",
       "      <td>146.42</td>\n",
       "    </tr>\n",
       "    <tr>\n",
       "      <th>2021-09-25</th>\n",
       "      <td>4853.0</td>\n",
       "      <td>12.984107</td>\n",
       "      <td>7.487262</td>\n",
       "      <td>0.01</td>\n",
       "      <td>8.8600</td>\n",
       "      <td>12.670</td>\n",
       "      <td>16.7300</td>\n",
       "      <td>291.94</td>\n",
       "    </tr>\n",
       "    <tr>\n",
       "      <th>2021-09-26</th>\n",
       "      <td>4873.0</td>\n",
       "      <td>13.044972</td>\n",
       "      <td>5.744070</td>\n",
       "      <td>0.01</td>\n",
       "      <td>9.0500</td>\n",
       "      <td>12.780</td>\n",
       "      <td>16.6200</td>\n",
       "      <td>45.09</td>\n",
       "    </tr>\n",
       "    <tr>\n",
       "      <th>2021-09-27</th>\n",
       "      <td>4787.0</td>\n",
       "      <td>13.810978</td>\n",
       "      <td>5.491107</td>\n",
       "      <td>0.01</td>\n",
       "      <td>10.1800</td>\n",
       "      <td>13.720</td>\n",
       "      <td>17.4300</td>\n",
       "      <td>44.51</td>\n",
       "    </tr>\n",
       "    <tr>\n",
       "      <th>2021-09-28</th>\n",
       "      <td>4161.0</td>\n",
       "      <td>12.283653</td>\n",
       "      <td>5.341177</td>\n",
       "      <td>0.01</td>\n",
       "      <td>8.6000</td>\n",
       "      <td>12.100</td>\n",
       "      <td>15.6300</td>\n",
       "      <td>41.68</td>\n",
       "    </tr>\n",
       "    <tr>\n",
       "      <th>2021-09-30</th>\n",
       "      <td>4869.0</td>\n",
       "      <td>14.394075</td>\n",
       "      <td>7.776845</td>\n",
       "      <td>0.01</td>\n",
       "      <td>8.7900</td>\n",
       "      <td>13.420</td>\n",
       "      <td>18.6500</td>\n",
       "      <td>56.20</td>\n",
       "    </tr>\n",
       "    <tr>\n",
       "      <th>2021-10-01</th>\n",
       "      <td>4877.0</td>\n",
       "      <td>5.100379</td>\n",
       "      <td>3.422823</td>\n",
       "      <td>0.01</td>\n",
       "      <td>2.4400</td>\n",
       "      <td>4.480</td>\n",
       "      <td>7.2600</td>\n",
       "      <td>32.51</td>\n",
       "    </tr>\n",
       "    <tr>\n",
       "      <th>2021-10-02</th>\n",
       "      <td>4876.0</td>\n",
       "      <td>6.857642</td>\n",
       "      <td>5.390622</td>\n",
       "      <td>0.01</td>\n",
       "      <td>2.9000</td>\n",
       "      <td>6.005</td>\n",
       "      <td>9.5725</td>\n",
       "      <td>55.82</td>\n",
       "    </tr>\n",
       "    <tr>\n",
       "      <th>2021-10-04</th>\n",
       "      <td>4863.0</td>\n",
       "      <td>16.530222</td>\n",
       "      <td>10.577387</td>\n",
       "      <td>0.01</td>\n",
       "      <td>8.4650</td>\n",
       "      <td>15.750</td>\n",
       "      <td>23.7600</td>\n",
       "      <td>55.82</td>\n",
       "    </tr>\n",
       "    <tr>\n",
       "      <th>2021-10-05</th>\n",
       "      <td>4843.0</td>\n",
       "      <td>9.828776</td>\n",
       "      <td>6.210870</td>\n",
       "      <td>0.01</td>\n",
       "      <td>5.3500</td>\n",
       "      <td>9.720</td>\n",
       "      <td>13.9600</td>\n",
       "      <td>61.28</td>\n",
       "    </tr>\n",
       "    <tr>\n",
       "      <th>2021-10-06</th>\n",
       "      <td>4869.0</td>\n",
       "      <td>8.969803</td>\n",
       "      <td>5.594448</td>\n",
       "      <td>0.01</td>\n",
       "      <td>4.7500</td>\n",
       "      <td>8.780</td>\n",
       "      <td>12.6300</td>\n",
       "      <td>42.19</td>\n",
       "    </tr>\n",
       "    <tr>\n",
       "      <th>2021-10-07</th>\n",
       "      <td>4872.0</td>\n",
       "      <td>2.726537</td>\n",
       "      <td>2.377940</td>\n",
       "      <td>0.01</td>\n",
       "      <td>1.2900</td>\n",
       "      <td>2.180</td>\n",
       "      <td>3.5000</td>\n",
       "      <td>66.32</td>\n",
       "    </tr>\n",
       "    <tr>\n",
       "      <th>2021-10-08</th>\n",
       "      <td>4791.0</td>\n",
       "      <td>1.939716</td>\n",
       "      <td>1.315895</td>\n",
       "      <td>0.01</td>\n",
       "      <td>1.0800</td>\n",
       "      <td>1.630</td>\n",
       "      <td>2.4800</td>\n",
       "      <td>15.15</td>\n",
       "    </tr>\n",
       "    <tr>\n",
       "      <th>2021-10-09</th>\n",
       "      <td>4809.0</td>\n",
       "      <td>1.538347</td>\n",
       "      <td>1.141795</td>\n",
       "      <td>0.01</td>\n",
       "      <td>0.8400</td>\n",
       "      <td>1.280</td>\n",
       "      <td>1.9400</td>\n",
       "      <td>13.30</td>\n",
       "    </tr>\n",
       "  </tbody>\n",
       "</table>\n",
       "</div>"
      ],
      "text/plain": [
       "              count       mean        std   min      25%     50%      75%  \\\n",
       "insert_time                                                                 \n",
       "2021-09-20   4880.0   5.743885   4.349534  0.01   3.0100   5.280   7.7725   \n",
       "2021-09-21   4871.0   5.718161   4.303444  0.01   3.0050   5.280   7.7700   \n",
       "2021-09-22   4854.0   8.203420   4.336307  0.01   4.9100   7.815  10.9950   \n",
       "2021-09-23   4814.0   8.645283   4.534765  0.01   5.2825   8.245  11.4800   \n",
       "2021-09-24   4871.0  11.509747   6.446569  0.01   7.7000  11.180  14.6950   \n",
       "2021-09-25   4853.0  12.984107   7.487262  0.01   8.8600  12.670  16.7300   \n",
       "2021-09-26   4873.0  13.044972   5.744070  0.01   9.0500  12.780  16.6200   \n",
       "2021-09-27   4787.0  13.810978   5.491107  0.01  10.1800  13.720  17.4300   \n",
       "2021-09-28   4161.0  12.283653   5.341177  0.01   8.6000  12.100  15.6300   \n",
       "2021-09-30   4869.0  14.394075   7.776845  0.01   8.7900  13.420  18.6500   \n",
       "2021-10-01   4877.0   5.100379   3.422823  0.01   2.4400   4.480   7.2600   \n",
       "2021-10-02   4876.0   6.857642   5.390622  0.01   2.9000   6.005   9.5725   \n",
       "2021-10-04   4863.0  16.530222  10.577387  0.01   8.4650  15.750  23.7600   \n",
       "2021-10-05   4843.0   9.828776   6.210870  0.01   5.3500   9.720  13.9600   \n",
       "2021-10-06   4869.0   8.969803   5.594448  0.01   4.7500   8.780  12.6300   \n",
       "2021-10-07   4872.0   2.726537   2.377940  0.01   1.2900   2.180   3.5000   \n",
       "2021-10-08   4791.0   1.939716   1.315895  0.01   1.0800   1.630   2.4800   \n",
       "2021-10-09   4809.0   1.538347   1.141795  0.01   0.8400   1.280   1.9400   \n",
       "\n",
       "                max  \n",
       "insert_time          \n",
       "2021-09-20   164.12  \n",
       "2021-09-21   164.12  \n",
       "2021-09-22    34.66  \n",
       "2021-09-23    28.41  \n",
       "2021-09-24   146.42  \n",
       "2021-09-25   291.94  \n",
       "2021-09-26    45.09  \n",
       "2021-09-27    44.51  \n",
       "2021-09-28    41.68  \n",
       "2021-09-30    56.20  \n",
       "2021-10-01    32.51  \n",
       "2021-10-02    55.82  \n",
       "2021-10-04    55.82  \n",
       "2021-10-05    61.28  \n",
       "2021-10-06    42.19  \n",
       "2021-10-07    66.32  \n",
       "2021-10-08    15.15  \n",
       "2021-10-09    13.30  "
      ]
     },
     "execution_count": 34,
     "metadata": {},
     "output_type": "execute_result"
    }
   ],
   "source": [
    "# 国庆前后的电费消耗\n",
    "df[(df['insert_time'] < '2021-10-10') & (df['insert_time'] > '2021-09-15')].groupby('insert_time')['consume'].describe()"
   ]
  },
  {
   "cell_type": "code",
   "execution_count": 35,
   "metadata": {},
   "outputs": [],
   "source": [
    "# 寝室用电排行\n",
    "rank_group = df.groupby('uid').sum().reset_index()"
   ]
  },
  {
   "cell_type": "code",
   "execution_count": 36,
   "metadata": {},
   "outputs": [
    {
     "data": {
      "text/html": [
       "<div>\n",
       "<style scoped>\n",
       "    .dataframe tbody tr th:only-of-type {\n",
       "        vertical-align: middle;\n",
       "    }\n",
       "\n",
       "    .dataframe tbody tr th {\n",
       "        vertical-align: top;\n",
       "    }\n",
       "\n",
       "    .dataframe thead th {\n",
       "        text-align: right;\n",
       "    }\n",
       "</style>\n",
       "<table border=\"1\" class=\"dataframe\">\n",
       "  <thead>\n",
       "    <tr style=\"text-align: right;\">\n",
       "      <th></th>\n",
       "      <th>uid</th>\n",
       "      <th>consume</th>\n",
       "      <th>room</th>\n",
       "    </tr>\n",
       "  </thead>\n",
       "  <tbody>\n",
       "    <tr>\n",
       "      <th>4440</th>\n",
       "      <td>4466</td>\n",
       "      <td>1891.48</td>\n",
       "      <td>至诚轩3栋A区-A529</td>\n",
       "    </tr>\n",
       "    <tr>\n",
       "      <th>4424</th>\n",
       "      <td>4450</td>\n",
       "      <td>1757.93</td>\n",
       "      <td>至诚轩3栋A区-A513</td>\n",
       "    </tr>\n",
       "    <tr>\n",
       "      <th>4324</th>\n",
       "      <td>4350</td>\n",
       "      <td>1717.52</td>\n",
       "      <td>至诚轩3栋A区-A129</td>\n",
       "    </tr>\n",
       "    <tr>\n",
       "      <th>4370</th>\n",
       "      <td>4396</td>\n",
       "      <td>1713.11</td>\n",
       "      <td>至诚轩3栋A区-A317</td>\n",
       "    </tr>\n",
       "    <tr>\n",
       "      <th>4399</th>\n",
       "      <td>4425</td>\n",
       "      <td>1632.31</td>\n",
       "      <td>至诚轩3栋A区-A417</td>\n",
       "    </tr>\n",
       "  </tbody>\n",
       "</table>\n",
       "</div>"
      ],
      "text/plain": [
       "       uid  consume          room\n",
       "4440  4466  1891.48  至诚轩3栋A区-A529\n",
       "4424  4450  1757.93  至诚轩3栋A区-A513\n",
       "4324  4350  1717.52  至诚轩3栋A区-A129\n",
       "4370  4396  1713.11  至诚轩3栋A区-A317\n",
       "4399  4425  1632.31  至诚轩3栋A区-A417"
      ]
     },
     "execution_count": 36,
     "metadata": {},
     "output_type": "execute_result"
    }
   ],
   "source": [
    "rank_by_dorm = rank_group.loc[:, ['uid','consume']].sort_values('consume', ascending=False).head(10)\n",
    "rank_by_dorm['room'] = rank_by_dorm['uid'].astype(str).map(uid_map)\n",
    "rank_by_dorm.head()"
   ]
  },
  {
   "cell_type": "code",
   "execution_count": 37,
   "metadata": {},
   "outputs": [
    {
     "data": {
      "image/png": "[encoded data removed]",
      "text/plain": [
       "<Figure size 600x400 with 1 Axes>"
      ]
     },
     "metadata": {
      "needs_background": "light"
     },
     "output_type": "display_data"
    }
   ],
   "source": [
    "def draw_rank(df):\n",
    "    x = df['room']\n",
    "    y = df['consume'].ravel()\n",
    "   \n",
    "    plt.figure(dpi=100)\n",
    "    plt.suptitle('按寝室消耗排序', fontsize=16)\n",
    "\n",
    "    plt.bar(x, y)\n",
    "    plt.xlabel('寝室门牌号')\n",
    "    plt.ylabel('总消耗')\n",
    "    plt.xticks(range(0, len(x), 1), rotation=90)\n",
    "    plt.tick_params(labelsize=10)\n",
    "\n",
    "\n",
    "draw_rank(rank_by_dorm)"
   ]
  },
  {
   "cell_type": "markdown",
   "metadata": {},
   "source": [
    "---"
   ]
  },
  {
   "cell_type": "markdown",
   "metadata": {},
   "source": [
    "### 7按照楼栋统计"
   ]
  },
  {
   "cell_type": "code",
   "execution_count": 38,
   "metadata": {},
   "outputs": [],
   "source": [
    "\n",
    "top3building = df.groupby('buildingid').agg(['sum', 'mean'])\\\n",
    "                 .reset_index().loc[:, ['buildingid', 'consume', 'charge']]\\\n",
    "                 .sort_values(('consume', 'sum'), ascending=False).head(3)"
   ]
  },
  {
   "cell_type": "code",
   "execution_count": 39,
   "metadata": {},
   "outputs": [],
   "source": [
    "from building_map import building_map\n",
    "building_decoder = {}\n",
    "for item in building_map.items():\n",
    "    building_decoder[item[1]] = item[0]"
   ]
  },
  {
   "cell_type": "code",
   "execution_count": 40,
   "metadata": {},
   "outputs": [
    {
     "name": "stdout",
     "output_type": "stream",
     "text": [
      "['155', '1', '29']\n"
     ]
    },
    {
     "data": {
      "image/png": "[encoded data removed]",
      "text/plain": [
       "<Figure size 600x400 with 1 Axes>"
      ]
     },
     "metadata": {
      "needs_background": "light"
     },
     "output_type": "display_data"
    }
   ],
   "source": [
    "def draw_building_rank(df):\n",
    "    x = df['buildingid'].astype(str).tolist()\n",
    "    print(x)\n",
    "    x = list(map(lambda code: building_decoder[code], x))\n",
    "    y = df['consume']['sum'].ravel()\n",
    "   \n",
    "    plt.figure(dpi=100)\n",
    "    plt.suptitle('按寝室楼栋排序', fontsize=16)\n",
    "    \n",
    "    plt.bar(x, y)\n",
    "    plt.xlabel('')\n",
    "    plt.ylabel('总消耗')\n",
    "\n",
    "\n",
    "draw_building_rank(top3building)"
   ]
  },
  {
   "cell_type": "markdown",
   "metadata": {},
   "source": [
    "---\n",
    "### 8气温的趋势考察"
   ]
  },
  {
   "cell_type": "code",
   "execution_count": 41,
   "metadata": {},
   "outputs": [
    {
     "data": {
      "image/png": "[encoded data removed]",
      "text/plain": [
       "<Figure size 600x400 with 1 Axes>"
      ]
     },
     "metadata": {
      "needs_background": "light"
     },
     "output_type": "display_data"
    }
   ],
   "source": [
    "def draw_weaher(df):\n",
    "\n",
    "    x = df['date'].ravel()\n",
    "    max = df['max']\n",
    "    min = df['min']\n",
    "\n",
    "    plt.figure(dpi=100)\n",
    "    plt.suptitle('Weather', fontsize=16)\n",
    "    \n",
    "    plt.xticks(range(0, len(x), 20), rotation=25)\n",
    "    plt.plot(x, min, c='b', label='min')\n",
    "    plt.plot(x, max, c='r', label='max')\n",
    "    plt.legend()\n",
    "\n",
    "draw_weaher(weather)"
   ]
  },
  {
   "cell_type": "code",
   "execution_count": 42,
   "metadata": {},
   "outputs": [],
   "source": [
    "# 将用电量、气温进行归一化\n",
    "weather['norm_max_temp'] = weather['max'] / weather['max'].max()\n",
    "weather['norm_min_temp'] = weather['min'] / weather['min'].max()"
   ]
  },
  {
   "cell_type": "code",
   "execution_count": 43,
   "metadata": {},
   "outputs": [
    {
     "data": {
      "text/html": [
       "<div>\n",
       "<style scoped>\n",
       "    .dataframe tbody tr th:only-of-type {\n",
       "        vertical-align: middle;\n",
       "    }\n",
       "\n",
       "    .dataframe tbody tr th {\n",
       "        vertical-align: top;\n",
       "    }\n",
       "\n",
       "    .dataframe thead th {\n",
       "        text-align: right;\n",
       "    }\n",
       "</style>\n",
       "<table border=\"1\" class=\"dataframe\">\n",
       "  <thead>\n",
       "    <tr style=\"text-align: right;\">\n",
       "      <th></th>\n",
       "      <th>date</th>\n",
       "      <th>weather</th>\n",
       "      <th>wind</th>\n",
       "      <th>max</th>\n",
       "      <th>min</th>\n",
       "      <th>norm_max_temp</th>\n",
       "      <th>norm_min_temp</th>\n",
       "    </tr>\n",
       "  </thead>\n",
       "  <tbody>\n",
       "    <tr>\n",
       "      <th>0</th>\n",
       "      <td>2021-09-01</td>\n",
       "      <td>晴/晴</td>\n",
       "      <td>东北风1-2级/东北风1-2级</td>\n",
       "      <td>37</td>\n",
       "      <td>27</td>\n",
       "      <td>1.000000</td>\n",
       "      <td>0.964286</td>\n",
       "    </tr>\n",
       "    <tr>\n",
       "      <th>1</th>\n",
       "      <td>2021-09-02</td>\n",
       "      <td>多云/多云</td>\n",
       "      <td>东北风1-2级/东北风1-2级</td>\n",
       "      <td>34</td>\n",
       "      <td>25</td>\n",
       "      <td>0.918919</td>\n",
       "      <td>0.892857</td>\n",
       "    </tr>\n",
       "    <tr>\n",
       "      <th>2</th>\n",
       "      <td>2021-09-03</td>\n",
       "      <td>多云/多云</td>\n",
       "      <td>东风1-2级/东风1-2级</td>\n",
       "      <td>36</td>\n",
       "      <td>25</td>\n",
       "      <td>0.972973</td>\n",
       "      <td>0.892857</td>\n",
       "    </tr>\n",
       "    <tr>\n",
       "      <th>3</th>\n",
       "      <td>2021-09-04</td>\n",
       "      <td>晴/晴</td>\n",
       "      <td>东北风1-2级/东北风1-2级</td>\n",
       "      <td>37</td>\n",
       "      <td>27</td>\n",
       "      <td>1.000000</td>\n",
       "      <td>0.964286</td>\n",
       "    </tr>\n",
       "    <tr>\n",
       "      <th>4</th>\n",
       "      <td>2021-09-05</td>\n",
       "      <td>小雨/多云</td>\n",
       "      <td>西北风1-2级/西北风1-2级</td>\n",
       "      <td>35</td>\n",
       "      <td>26</td>\n",
       "      <td>0.945946</td>\n",
       "      <td>0.928571</td>\n",
       "    </tr>\n",
       "  </tbody>\n",
       "</table>\n",
       "</div>"
      ],
      "text/plain": [
       "         date weather             wind  max  min  norm_max_temp  norm_min_temp\n",
       "0  2021-09-01     晴/晴  东北风1-2级/东北风1-2级   37   27       1.000000       0.964286\n",
       "1  2021-09-02   多云/多云  东北风1-2级/东北风1-2级   34   25       0.918919       0.892857\n",
       "2  2021-09-03   多云/多云    东风1-2级/东风1-2级   36   25       0.972973       0.892857\n",
       "3  2021-09-04     晴/晴  东北风1-2级/东北风1-2级   37   27       1.000000       0.964286\n",
       "4  2021-09-05   小雨/多云  西北风1-2级/西北风1-2级   35   26       0.945946       0.928571"
      ]
     },
     "execution_count": 43,
     "metadata": {},
     "output_type": "execute_result"
    }
   ],
   "source": [
    "weather.head()"
   ]
  },
  {
   "cell_type": "code",
   "execution_count": 44,
   "metadata": {},
   "outputs": [
    {
     "data": {
      "image/png": "[encoded data removed]",
      "text/plain": [
       "<Figure size 600x400 with 1 Axes>"
      ]
     },
     "metadata": {
      "needs_background": "light"
     },
     "output_type": "display_data"
    }
   ],
   "source": [
    "def draw_norm_weaher(df):\n",
    "    x = df['date'].ravel()\n",
    "    max = df['norm_max_temp']\n",
    "    min = df['norm_min_temp']\n",
    "    \n",
    "    plt.figure(dpi=100)\n",
    "    plt.suptitle('Normalized Weather', fontsize=16)\n",
    "    \n",
    "    plt.xticks(range(0, len(x), 20), rotation=25)\n",
    "    plt.plot(x, min, c='b', label='min')\n",
    "    plt.plot(x, max, c='r', label='max')\n",
    "    plt.legend()\n",
    "\n",
    "\n",
    "draw_norm_weaher(weather)"
   ]
  },
  {
   "cell_type": "markdown",
   "metadata": {},
   "source": [
    "**对最高气温进行验证** "
   ]
  },
  {
   "cell_type": "code",
   "execution_count": 45,
   "metadata": {},
   "outputs": [],
   "source": [
    "date_analysis.loc[:, ('consume','norm_sum')] = date_analysis.loc[:, ('consume','sum')] / date_analysis.loc[:, ('consume','sum')].max()"
   ]
  },
  {
   "cell_type": "code",
   "execution_count": 46,
   "metadata": {},
   "outputs": [
    {
     "data": {
      "text/html": [
       "<div>\n",
       "<style scoped>\n",
       "    .dataframe tbody tr th:only-of-type {\n",
       "        vertical-align: middle;\n",
       "    }\n",
       "\n",
       "    .dataframe tbody tr th {\n",
       "        vertical-align: top;\n",
       "    }\n",
       "\n",
       "    .dataframe thead tr th {\n",
       "        text-align: left;\n",
       "    }\n",
       "</style>\n",
       "<table border=\"1\" class=\"dataframe\">\n",
       "  <thead>\n",
       "    <tr>\n",
       "      <th></th>\n",
       "      <th>insert_time</th>\n",
       "      <th colspan=\"2\" halign=\"left\">consume</th>\n",
       "      <th colspan=\"2\" halign=\"left\">charge</th>\n",
       "      <th>consume</th>\n",
       "    </tr>\n",
       "    <tr>\n",
       "      <th></th>\n",
       "      <th></th>\n",
       "      <th>sum</th>\n",
       "      <th>mean</th>\n",
       "      <th>sum</th>\n",
       "      <th>mean</th>\n",
       "      <th>norm_sum</th>\n",
       "    </tr>\n",
       "  </thead>\n",
       "  <tbody>\n",
       "    <tr>\n",
       "      <th>0</th>\n",
       "      <td>2021-09-20</td>\n",
       "      <td>28030.16</td>\n",
       "      <td>5.743885</td>\n",
       "      <td>0.00</td>\n",
       "      <td>0.000000</td>\n",
       "      <td>0.348693</td>\n",
       "    </tr>\n",
       "    <tr>\n",
       "      <th>1</th>\n",
       "      <td>2021-09-21</td>\n",
       "      <td>27853.16</td>\n",
       "      <td>5.718161</td>\n",
       "      <td>25744.18</td>\n",
       "      <td>5.180958</td>\n",
       "      <td>0.346491</td>\n",
       "    </tr>\n",
       "    <tr>\n",
       "      <th>2</th>\n",
       "      <td>2021-09-22</td>\n",
       "      <td>39819.40</td>\n",
       "      <td>8.203420</td>\n",
       "      <td>42379.60</td>\n",
       "      <td>8.564996</td>\n",
       "      <td>0.495350</td>\n",
       "    </tr>\n",
       "    <tr>\n",
       "      <th>3</th>\n",
       "      <td>2021-09-23</td>\n",
       "      <td>41618.39</td>\n",
       "      <td>8.645283</td>\n",
       "      <td>43685.94</td>\n",
       "      <td>8.893717</td>\n",
       "      <td>0.517729</td>\n",
       "    </tr>\n",
       "    <tr>\n",
       "      <th>4</th>\n",
       "      <td>2021-09-24</td>\n",
       "      <td>56063.98</td>\n",
       "      <td>11.509747</td>\n",
       "      <td>52128.15</td>\n",
       "      <td>10.492784</td>\n",
       "      <td>0.697431</td>\n",
       "    </tr>\n",
       "  </tbody>\n",
       "</table>\n",
       "</div>"
      ],
      "text/plain": [
       "  insert_time   consume               charge              consume\n",
       "                    sum       mean       sum       mean  norm_sum\n",
       "0  2021-09-20  28030.16   5.743885      0.00   0.000000  0.348693\n",
       "1  2021-09-21  27853.16   5.718161  25744.18   5.180958  0.346491\n",
       "2  2021-09-22  39819.40   8.203420  42379.60   8.564996  0.495350\n",
       "3  2021-09-23  41618.39   8.645283  43685.94   8.893717  0.517729\n",
       "4  2021-09-24  56063.98  11.509747  52128.15  10.492784  0.697431"
      ]
     },
     "execution_count": 46,
     "metadata": {},
     "output_type": "execute_result"
    }
   ],
   "source": [
    "date_analysis.head()"
   ]
  },
  {
   "cell_type": "code",
   "execution_count": 47,
   "metadata": {},
   "outputs": [
    {
     "name": "stderr",
     "output_type": "stream",
     "text": [
      "/home/hadoop/.local/lib/python3.6/site-packages/pandas/core/reshape/merge.py:643: UserWarning: merging between different levels can give an unintended result (2 levels on the left,1 on the right)\n",
      "  warnings.warn(msg, UserWarning)\n"
     ]
    },
    {
     "data": {
      "image/png": "[encoded data removed]",
      "text/plain": [
       "<Figure size 600x400 with 1 Axes>"
      ]
     },
     "metadata": {
      "needs_background": "light"
     },
     "output_type": "display_data"
    }
   ],
   "source": [
    "def draw_relationship(weather, date_analysis):\n",
    "    cols = ['insert_time','consume_sum','consume_mean','charge_sum','charge_mean', \\\n",
    "            'consume_norm_sum', 'date', 'weather', 'wind', 'max', 'min', 'norm_max_temp', 'norm_min_temp']\n",
    "    merged = pd.merge(date_analysis, weather, left_on='insert_time', right_on='date')\n",
    "    merged.columns = cols\n",
    "\n",
    "    x = merged['date'].ravel()\n",
    "    temp = merged['norm_max_temp']\n",
    "    consume = merged['consume_norm_sum']\n",
    "\n",
    "    plt.figure(dpi=100)\n",
    "    plt.suptitle('Relationship', fontsize=16)\n",
    "    \n",
    "    plt.xticks(range(0, len(x), 20), rotation=25)\n",
    "    plt.plot(x, consume, c='b', label='consume')\n",
    "    plt.plot(x, temp, c='r', label='temperature')\n",
    "    plt.legend()\n",
    "\n",
    "    return merged\n",
    "\n",
    "\n",
    "merged = draw_relationship(weather, date_analysis)"
   ]
  },
  {
   "cell_type": "code",
   "execution_count": 48,
   "metadata": {},
   "outputs": [
    {
     "data": {
      "text/html": [
       "<div>\n",
       "<style scoped>\n",
       "    .dataframe tbody tr th:only-of-type {\n",
       "        vertical-align: middle;\n",
       "    }\n",
       "\n",
       "    .dataframe tbody tr th {\n",
       "        vertical-align: top;\n",
       "    }\n",
       "\n",
       "    .dataframe thead th {\n",
       "        text-align: right;\n",
       "    }\n",
       "</style>\n",
       "<table border=\"1\" class=\"dataframe\">\n",
       "  <thead>\n",
       "    <tr style=\"text-align: right;\">\n",
       "      <th></th>\n",
       "      <th>insert_time</th>\n",
       "      <th>consume_sum</th>\n",
       "      <th>consume_mean</th>\n",
       "      <th>charge_sum</th>\n",
       "      <th>charge_mean</th>\n",
       "      <th>consume_norm_sum</th>\n",
       "      <th>date</th>\n",
       "      <th>weather</th>\n",
       "      <th>wind</th>\n",
       "      <th>max</th>\n",
       "      <th>min</th>\n",
       "      <th>norm_max_temp</th>\n",
       "      <th>norm_min_temp</th>\n",
       "    </tr>\n",
       "  </thead>\n",
       "  <tbody>\n",
       "    <tr>\n",
       "      <th>0</th>\n",
       "      <td>2021-09-20</td>\n",
       "      <td>28030.16</td>\n",
       "      <td>5.743885</td>\n",
       "      <td>0.00</td>\n",
       "      <td>0.000000</td>\n",
       "      <td>0.348693</td>\n",
       "      <td>2021-09-20</td>\n",
       "      <td>多云/晴</td>\n",
       "      <td>东北风1-2级/东北风1-2级</td>\n",
       "      <td>29</td>\n",
       "      <td>21</td>\n",
       "      <td>0.783784</td>\n",
       "      <td>0.750000</td>\n",
       "    </tr>\n",
       "    <tr>\n",
       "      <th>1</th>\n",
       "      <td>2021-09-21</td>\n",
       "      <td>27853.16</td>\n",
       "      <td>5.718161</td>\n",
       "      <td>25744.18</td>\n",
       "      <td>5.180958</td>\n",
       "      <td>0.346491</td>\n",
       "      <td>2021-09-21</td>\n",
       "      <td>晴/晴</td>\n",
       "      <td>东风1-2级/东风1-2级</td>\n",
       "      <td>34</td>\n",
       "      <td>20</td>\n",
       "      <td>0.918919</td>\n",
       "      <td>0.714286</td>\n",
       "    </tr>\n",
       "    <tr>\n",
       "      <th>2</th>\n",
       "      <td>2021-09-22</td>\n",
       "      <td>39819.40</td>\n",
       "      <td>8.203420</td>\n",
       "      <td>42379.60</td>\n",
       "      <td>8.564996</td>\n",
       "      <td>0.495350</td>\n",
       "      <td>2021-09-22</td>\n",
       "      <td>晴/晴</td>\n",
       "      <td>东北风1-2级/东北风1-2级</td>\n",
       "      <td>36</td>\n",
       "      <td>23</td>\n",
       "      <td>0.972973</td>\n",
       "      <td>0.821429</td>\n",
       "    </tr>\n",
       "    <tr>\n",
       "      <th>3</th>\n",
       "      <td>2021-09-23</td>\n",
       "      <td>41618.39</td>\n",
       "      <td>8.645283</td>\n",
       "      <td>43685.94</td>\n",
       "      <td>8.893717</td>\n",
       "      <td>0.517729</td>\n",
       "      <td>2021-09-23</td>\n",
       "      <td>晴/晴</td>\n",
       "      <td>东风1-2级/东风1-2级</td>\n",
       "      <td>37</td>\n",
       "      <td>26</td>\n",
       "      <td>1.000000</td>\n",
       "      <td>0.928571</td>\n",
       "    </tr>\n",
       "    <tr>\n",
       "      <th>4</th>\n",
       "      <td>2021-09-24</td>\n",
       "      <td>56063.98</td>\n",
       "      <td>11.509747</td>\n",
       "      <td>52128.15</td>\n",
       "      <td>10.492784</td>\n",
       "      <td>0.697431</td>\n",
       "      <td>2021-09-24</td>\n",
       "      <td>晴/晴</td>\n",
       "      <td>东南风1-2级/东南风1-2级</td>\n",
       "      <td>37</td>\n",
       "      <td>27</td>\n",
       "      <td>1.000000</td>\n",
       "      <td>0.964286</td>\n",
       "    </tr>\n",
       "  </tbody>\n",
       "</table>\n",
       "</div>"
      ],
      "text/plain": [
       "  insert_time  consume_sum  consume_mean  charge_sum  charge_mean  \\\n",
       "0  2021-09-20     28030.16      5.743885        0.00     0.000000   \n",
       "1  2021-09-21     27853.16      5.718161    25744.18     5.180958   \n",
       "2  2021-09-22     39819.40      8.203420    42379.60     8.564996   \n",
       "3  2021-09-23     41618.39      8.645283    43685.94     8.893717   \n",
       "4  2021-09-24     56063.98     11.509747    52128.15    10.492784   \n",
       "\n",
       "   consume_norm_sum        date weather             wind  max  min  \\\n",
       "0          0.348693  2021-09-20    多云/晴  东北风1-2级/东北风1-2级   29   21   \n",
       "1          0.346491  2021-09-21     晴/晴    东风1-2级/东风1-2级   34   20   \n",
       "2          0.495350  2021-09-22     晴/晴  东北风1-2级/东北风1-2级   36   23   \n",
       "3          0.517729  2021-09-23     晴/晴    东风1-2级/东风1-2级   37   26   \n",
       "4          0.697431  2021-09-24     晴/晴  东南风1-2级/东南风1-2级   37   27   \n",
       "\n",
       "   norm_max_temp  norm_min_temp  \n",
       "0       0.783784       0.750000  \n",
       "1       0.918919       0.714286  \n",
       "2       0.972973       0.821429  \n",
       "3       1.000000       0.928571  \n",
       "4       1.000000       0.964286  "
      ]
     },
     "execution_count": 48,
     "metadata": {},
     "output_type": "execute_result"
    }
   ],
   "source": [
    "merged.head()"
   ]
  },
  {
   "cell_type": "code",
   "execution_count": 49,
   "metadata": {},
   "outputs": [
    {
     "name": "stdout",
     "output_type": "stream",
     "text": [
      "平均用电量和最高气温的相关性 0.4906272977015717\n"
     ]
    }
   ],
   "source": [
    "corr_val = merged['consume_mean'].corr(merged['norm_max_temp'])\n",
    "print('平均用电量和最高气温的相关性', corr_val)"
   ]
  }
 ],
 "metadata": {
  "interpreter": {
   "hash": "f7291e4b392a32fbfa525b87d1bbd0a3d888adf3d0deca0c205c61b9e7284b82"
  },
  "kernelspec": {
   "display_name": "Python 3.6.3 64-bit",
   "language": "python",
   "name": "python3"
  },
  "language_info": {
   "codemirror_mode": {
    "name": "ipython",
    "version": 3
   },
   "file_extension": ".py",
   "mimetype": "text/x-python",
   "name": "python",
   "nbconvert_exporter": "python",
   "pygments_lexer": "ipython3",
   "version": "3.6.9"
  },
  "orig_nbformat": 4
 },
 "nbformat": 4,
 "nbformat_minor": 2
}
